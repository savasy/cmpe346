{
 "cells": [
  {
   "cell_type": "code",
   "execution_count": 0,
   "metadata": {
    "colab": {},
    "colab_type": "code",
    "collapsed": true,
    "id": "aoIs0pClhoMW"
   },
   "outputs": [],
   "source": [
    "import numpy as np\n",
    "import re"
   ]
  },
  {
   "cell_type": "markdown",
   "metadata": {
    "colab_type": "text",
    "id": "50KciEzbWcqJ"
   },
   "source": [
    "# Bag-of-Words"
   ]
  },
  {
   "cell_type": "code",
   "execution_count": 0,
   "metadata": {
    "colab": {},
    "colab_type": "code",
    "collapsed": true,
    "id": "XxD1h-xKNtLb"
   },
   "outputs": [],
   "source": [
    "text = ('I propose to consider the question, \"Can machines think?\" This should begin with ' +\n",
    "  'definitions of the meaning of the terms \"machine\" and \"think.\" The definitions might be ' +\n",
    "  'framed so as to reflect so far as possible the normal use of the words, but this attitude is ' +\n",
    "  'dangerous, If the meaning of the words \"machine\" and \"think\" are to be found by ' +\n",
    "  'examining how they are commonly used it is difficult to escape the conclusion that the ' +\n",
    "  'meaning and the answer to the question, \"Can machines think?\" is to be sought in a ' +\n",
    "  'statistical survey such as a Gallup poll. But this is absurd. Instead of attempting such a ' +\n",
    "  'definition I shall replace the question by another, which is closely related to it and is ' +\n",
    "  'expressed in relatively unambiguous words. ')"
   ]
  },
  {
   "cell_type": "code",
   "execution_count": 3,
   "metadata": {
    "colab": {
     "base_uri": "https://localhost:8080/",
     "height": 221
    },
    "colab_type": "code",
    "id": "uDuaDbjPNv_R",
    "outputId": "b7c16f6f-22f4-4fb1-a564-666b6ee10369"
   },
   "outputs": [
    {
     "data": {
      "text/plain": [
       "['i',\n",
       " 'propose',\n",
       " 'to',\n",
       " 'consider',\n",
       " 'the',\n",
       " 'question',\n",
       " ',',\n",
       " '\"',\n",
       " 'can',\n",
       " 'machines',\n",
       " 'think',\n",
       " '?']"
      ]
     },
     "execution_count": 3,
     "metadata": {
      "tags": []
     },
     "output_type": "execute_result"
    }
   ],
   "source": [
    "def tokenize(sentence):\n",
    "    t_sent= re.findall(r'\\w+|\\S', sentence)\n",
    "    t_sent = [w.lower() for w in t_sent]\n",
    "    return t_sent\n",
    "\n",
    "corpus = tokenize(text)\n",
    "corpus[:12]"
   ]
  },
  {
   "cell_type": "markdown",
   "metadata": {
    "colab_type": "text",
    "id": "oUuuZTsbOcWS"
   },
   "source": [
    "## Creating the vocabulary of corpus"
   ]
  },
  {
   "cell_type": "code",
   "execution_count": 0,
   "metadata": {
    "colab": {},
    "colab_type": "code",
    "collapsed": true,
    "id": "G0MIQ1MLEh5r"
   },
   "outputs": [],
   "source": [
    "vocabulary = {}\n",
    "\n",
    "for w in corpus:\n",
    "    if w not in vocabulary: vocabulary[w] = 1\n",
    "    else: vocabulary[w] += 1"
   ]
  },
  {
   "cell_type": "code",
   "execution_count": 5,
   "metadata": {
    "colab": {
     "base_uri": "https://localhost:8080/",
     "height": 1000
    },
    "colab_type": "code",
    "id": "cCv9Ep-7OMoc",
    "outputId": "04f733d8-1614-485b-ac29-31ea5a24b715"
   },
   "outputs": [
    {
     "data": {
      "text/plain": [
       "{'\"': 12,\n",
       " ',': 5,\n",
       " '.': 4,\n",
       " '?': 2,\n",
       " 'a': 3,\n",
       " 'absurd': 1,\n",
       " 'and': 4,\n",
       " 'another': 1,\n",
       " 'answer': 1,\n",
       " 'are': 2,\n",
       " 'as': 3,\n",
       " 'attempting': 1,\n",
       " 'attitude': 1,\n",
       " 'be': 3,\n",
       " 'begin': 1,\n",
       " 'but': 2,\n",
       " 'by': 2,\n",
       " 'can': 2,\n",
       " 'closely': 1,\n",
       " 'commonly': 1,\n",
       " 'conclusion': 1,\n",
       " 'consider': 1,\n",
       " 'dangerous': 1,\n",
       " 'definition': 1,\n",
       " 'definitions': 2,\n",
       " 'difficult': 1,\n",
       " 'escape': 1,\n",
       " 'examining': 1,\n",
       " 'expressed': 1,\n",
       " 'far': 1,\n",
       " 'found': 1,\n",
       " 'framed': 1,\n",
       " 'gallup': 1,\n",
       " 'how': 1,\n",
       " 'i': 2,\n",
       " 'if': 1,\n",
       " 'in': 2,\n",
       " 'instead': 1,\n",
       " 'is': 6,\n",
       " 'it': 2,\n",
       " 'machine': 2,\n",
       " 'machines': 2,\n",
       " 'meaning': 3,\n",
       " 'might': 1,\n",
       " 'normal': 1,\n",
       " 'of': 5,\n",
       " 'poll': 1,\n",
       " 'possible': 1,\n",
       " 'propose': 1,\n",
       " 'question': 3,\n",
       " 'reflect': 1,\n",
       " 'related': 1,\n",
       " 'relatively': 1,\n",
       " 'replace': 1,\n",
       " 'shall': 1,\n",
       " 'should': 1,\n",
       " 'so': 2,\n",
       " 'sought': 1,\n",
       " 'statistical': 1,\n",
       " 'such': 2,\n",
       " 'survey': 1,\n",
       " 'terms': 1,\n",
       " 'that': 1,\n",
       " 'the': 13,\n",
       " 'they': 1,\n",
       " 'think': 4,\n",
       " 'this': 3,\n",
       " 'to': 7,\n",
       " 'unambiguous': 1,\n",
       " 'use': 1,\n",
       " 'used': 1,\n",
       " 'which': 1,\n",
       " 'with': 1,\n",
       " 'words': 3}"
      ]
     },
     "execution_count": 5,
     "metadata": {
      "tags": []
     },
     "output_type": "execute_result"
    }
   ],
   "source": [
    "vocabulary"
   ]
  },
  {
   "cell_type": "code",
   "execution_count": 0,
   "metadata": {
    "colab": {},
    "colab_type": "code",
    "collapsed": true,
    "id": "GkLQTcNwFZHW"
   },
   "outputs": [],
   "source": [
    "# sorting with respect to counts\n",
    "bag_of_words = [(k, v) for k,v in sorted(vocabulary.items(), key=lambda x: x[1], reverse=True)] "
   ]
  },
  {
   "cell_type": "code",
   "execution_count": 7,
   "metadata": {
    "colab": {
     "base_uri": "https://localhost:8080/",
     "height": 187
    },
    "colab_type": "code",
    "id": "qxDIAO5BKquo",
    "outputId": "df5e8b40-442e-46f9-a382-03fc98ddaa47"
   },
   "outputs": [
    {
     "data": {
      "text/plain": [
       "[('the', 13),\n",
       " ('\"', 12),\n",
       " ('to', 7),\n",
       " ('is', 6),\n",
       " (',', 5),\n",
       " ('of', 5),\n",
       " ('think', 4),\n",
       " ('and', 4),\n",
       " ('.', 4),\n",
       " ('question', 3)]"
      ]
     },
     "execution_count": 7,
     "metadata": {
      "tags": []
     },
     "output_type": "execute_result"
    }
   ],
   "source": [
    "bag_of_words[:10] # most frequent 10 word"
   ]
  },
  {
   "cell_type": "code",
   "execution_count": 0,
   "metadata": {
    "colab": {},
    "colab_type": "code",
    "collapsed": true,
    "id": "4hdE2wt-Fxjy"
   },
   "outputs": [],
   "source": [
    "max_length_vocabulary = None\n",
    "word_to_index = {word[0]: index for index, word in enumerate(bag_of_words[:max_length_vocabulary])} \n",
    "index_to_word = {index: word[0] for index, word in enumerate(bag_of_words[:max_length_vocabulary])} "
   ]
  },
  {
   "cell_type": "code",
   "execution_count": 9,
   "metadata": {
    "colab": {
     "base_uri": "https://localhost:8080/",
     "height": 1000
    },
    "colab_type": "code",
    "id": "nli5JCn9QWwD",
    "outputId": "20150e3d-f3c5-4c72-db4c-f16b1fc48b6f"
   },
   "outputs": [
    {
     "data": {
      "text/plain": [
       "{'\"': 1,\n",
       " ',': 4,\n",
       " '.': 8,\n",
       " '?': 19,\n",
       " 'a': 15,\n",
       " 'absurd': 61,\n",
       " 'and': 7,\n",
       " 'another': 67,\n",
       " 'answer': 55,\n",
       " 'are': 24,\n",
       " 'as': 13,\n",
       " 'attempting': 63,\n",
       " 'attitude': 42,\n",
       " 'be': 12,\n",
       " 'begin': 32,\n",
       " 'but': 23,\n",
       " 'by': 25,\n",
       " 'can': 17,\n",
       " 'closely': 69,\n",
       " 'commonly': 49,\n",
       " 'conclusion': 53,\n",
       " 'consider': 30,\n",
       " 'dangerous': 43,\n",
       " 'definition': 64,\n",
       " 'definitions': 20,\n",
       " 'difficult': 51,\n",
       " 'escape': 52,\n",
       " 'examining': 46,\n",
       " 'expressed': 71,\n",
       " 'far': 38,\n",
       " 'found': 45,\n",
       " 'framed': 36,\n",
       " 'gallup': 59,\n",
       " 'how': 47,\n",
       " 'i': 16,\n",
       " 'if': 44,\n",
       " 'in': 27,\n",
       " 'instead': 62,\n",
       " 'is': 3,\n",
       " 'it': 26,\n",
       " 'machine': 21,\n",
       " 'machines': 18,\n",
       " 'meaning': 11,\n",
       " 'might': 35,\n",
       " 'normal': 40,\n",
       " 'of': 5,\n",
       " 'poll': 60,\n",
       " 'possible': 39,\n",
       " 'propose': 29,\n",
       " 'question': 9,\n",
       " 'reflect': 37,\n",
       " 'related': 70,\n",
       " 'relatively': 72,\n",
       " 'replace': 66,\n",
       " 'shall': 65,\n",
       " 'should': 31,\n",
       " 'so': 22,\n",
       " 'sought': 56,\n",
       " 'statistical': 57,\n",
       " 'such': 28,\n",
       " 'survey': 58,\n",
       " 'terms': 34,\n",
       " 'that': 54,\n",
       " 'the': 0,\n",
       " 'they': 48,\n",
       " 'think': 6,\n",
       " 'this': 10,\n",
       " 'to': 2,\n",
       " 'unambiguous': 73,\n",
       " 'use': 41,\n",
       " 'used': 50,\n",
       " 'which': 68,\n",
       " 'with': 33,\n",
       " 'words': 14}"
      ]
     },
     "execution_count": 9,
     "metadata": {
      "tags": []
     },
     "output_type": "execute_result"
    }
   ],
   "source": [
    "word_to_index"
   ]
  },
  {
   "cell_type": "code",
   "execution_count": 10,
   "metadata": {
    "colab": {
     "base_uri": "https://localhost:8080/",
     "height": 34
    },
    "colab_type": "code",
    "id": "bEhZsN3xQlWt",
    "outputId": "ae8e5af1-73eb-4505-b233-49cbee68f3c0"
   },
   "outputs": [
    {
     "data": {
      "text/plain": [
       "['can', 'machine', 'think', '?']"
      ]
     },
     "execution_count": 10,
     "metadata": {
      "tags": []
     },
     "output_type": "execute_result"
    }
   ],
   "source": [
    "example = 'Can machine think?'\n",
    "t_example = tokenize(example)\n",
    "t_example"
   ]
  },
  {
   "cell_type": "markdown",
   "metadata": {
    "colab_type": "text",
    "id": "-Qh7zIRWRYHL"
   },
   "source": [
    "## Vectorizing (One-hot encoding)"
   ]
  },
  {
   "cell_type": "code",
   "execution_count": 11,
   "metadata": {
    "colab": {
     "base_uri": "https://localhost:8080/",
     "height": 34
    },
    "colab_type": "code",
    "id": "D90u6syMRV-I",
    "outputId": "312f5dbd-d4d0-4875-d040-57968b61e5b8"
   },
   "outputs": [
    {
     "data": {
      "text/plain": [
       "(4, 74)"
      ]
     },
     "execution_count": 11,
     "metadata": {
      "tags": []
     },
     "output_type": "execute_result"
    }
   ],
   "source": [
    "vector = np.zeros((len(t_example), len(word_to_index)))\n",
    "vector.shape # == sentence_length, vocabulary_size"
   ]
  },
  {
   "cell_type": "code",
   "execution_count": 12,
   "metadata": {
    "colab": {
     "base_uri": "https://localhost:8080/",
     "height": 357
    },
    "colab_type": "code",
    "id": "uokZbKfzSOb6",
    "outputId": "a9938ed4-2b74-4236-ba50-c3a05269730c"
   },
   "outputs": [
    {
     "data": {
      "text/plain": [
       "array([[0., 0., 0., 0., 0., 0., 0., 0., 0., 0., 0., 0., 0., 0., 0., 0.,\n",
       "        0., 1., 0., 0., 0., 0., 0., 0., 0., 0., 0., 0., 0., 0., 0., 0.,\n",
       "        0., 0., 0., 0., 0., 0., 0., 0., 0., 0., 0., 0., 0., 0., 0., 0.,\n",
       "        0., 0., 0., 0., 0., 0., 0., 0., 0., 0., 0., 0., 0., 0., 0., 0.,\n",
       "        0., 0., 0., 0., 0., 0., 0., 0., 0., 0.],\n",
       "       [0., 0., 0., 0., 0., 0., 0., 0., 0., 0., 0., 0., 0., 0., 0., 0.,\n",
       "        0., 0., 0., 0., 0., 1., 0., 0., 0., 0., 0., 0., 0., 0., 0., 0.,\n",
       "        0., 0., 0., 0., 0., 0., 0., 0., 0., 0., 0., 0., 0., 0., 0., 0.,\n",
       "        0., 0., 0., 0., 0., 0., 0., 0., 0., 0., 0., 0., 0., 0., 0., 0.,\n",
       "        0., 0., 0., 0., 0., 0., 0., 0., 0., 0.],\n",
       "       [0., 0., 0., 0., 0., 0., 1., 0., 0., 0., 0., 0., 0., 0., 0., 0.,\n",
       "        0., 0., 0., 0., 0., 0., 0., 0., 0., 0., 0., 0., 0., 0., 0., 0.,\n",
       "        0., 0., 0., 0., 0., 0., 0., 0., 0., 0., 0., 0., 0., 0., 0., 0.,\n",
       "        0., 0., 0., 0., 0., 0., 0., 0., 0., 0., 0., 0., 0., 0., 0., 0.,\n",
       "        0., 0., 0., 0., 0., 0., 0., 0., 0., 0.],\n",
       "       [0., 0., 0., 0., 0., 0., 0., 0., 0., 0., 0., 0., 0., 0., 0., 0.,\n",
       "        0., 0., 0., 1., 0., 0., 0., 0., 0., 0., 0., 0., 0., 0., 0., 0.,\n",
       "        0., 0., 0., 0., 0., 0., 0., 0., 0., 0., 0., 0., 0., 0., 0., 0.,\n",
       "        0., 0., 0., 0., 0., 0., 0., 0., 0., 0., 0., 0., 0., 0., 0., 0.,\n",
       "        0., 0., 0., 0., 0., 0., 0., 0., 0., 0.]])"
      ]
     },
     "execution_count": 12,
     "metadata": {
      "tags": []
     },
     "output_type": "execute_result"
    }
   ],
   "source": [
    "for index, word in enumerate(t_example):\n",
    "  # is word in vocabulary or not\n",
    "  if word in word_to_index: \n",
    "    vector[index, word_to_index[word]] = 1.\n",
    "\n",
    "vector"
   ]
  },
  {
   "cell_type": "code",
   "execution_count": 13,
   "metadata": {
    "colab": {
     "base_uri": "https://localhost:8080/",
     "height": 34
    },
    "colab_type": "code",
    "id": "tTqUJPYkTAjE",
    "outputId": "8c84d7ac-f5e9-4028-a222-edb41293c68d"
   },
   "outputs": [
    {
     "data": {
      "text/plain": [
       "'can machine think ? '"
      ]
     },
     "execution_count": 13,
     "metadata": {
      "tags": []
     },
     "output_type": "execute_result"
    }
   ],
   "source": [
    "decoded_text = ''\n",
    "\n",
    "for word in vector:\n",
    "  # is word in vocabulary or not\n",
    "  if word.sum() != 0: \n",
    "    token = word.argmax()\n",
    "    decoded_text += index_to_word[token] + ' '\n",
    "\n",
    "decoded_text"
   ]
  },
  {
   "cell_type": "markdown",
   "metadata": {
    "colab_type": "text",
    "id": "hsjriGj3VZFY"
   },
   "source": [
    "## sklearn - CountVectorizer "
   ]
  },
  {
   "cell_type": "code",
   "execution_count": 14,
   "metadata": {
    "colab": {
     "base_uri": "https://localhost:8080/",
     "height": 119
    },
    "colab_type": "code",
    "id": "JHJMh_irFo4d",
    "outputId": "37591ac0-0185-4712-9808-4160ac1c0f1b"
   },
   "outputs": [
    {
     "data": {
      "text/plain": [
       "CountVectorizer(analyzer='word', binary=False, decode_error='strict',\n",
       "                dtype=<class 'numpy.int64'>, encoding='utf-8', input='content',\n",
       "                lowercase=True, max_df=1.0, max_features=None, min_df=1,\n",
       "                ngram_range=(1, 1), preprocessor=None, stop_words=None,\n",
       "                strip_accents=None, token_pattern='(?u)\\\\b\\\\w\\\\w+\\\\b',\n",
       "                tokenizer=None, vocabulary=None)"
      ]
     },
     "execution_count": 14,
     "metadata": {
      "tags": []
     },
     "output_type": "execute_result"
    }
   ],
   "source": [
    "from sklearn.feature_extraction.text import CountVectorizer\n",
    "\n",
    "bow = CountVectorizer()\n",
    "bow.fit(corpus)"
   ]
  },
  {
   "cell_type": "code",
   "execution_count": 15,
   "metadata": {
    "colab": {
     "base_uri": "https://localhost:8080/",
     "height": 1000
    },
    "colab_type": "code",
    "id": "NAfFr_bNMX39",
    "outputId": "ea7956bf-6b61-4f8f-d4c6-8dbcf5586736"
   },
   "outputs": [
    {
     "data": {
      "text/plain": [
       "{'absurd': 0,\n",
       " 'and': 1,\n",
       " 'another': 2,\n",
       " 'answer': 3,\n",
       " 'are': 4,\n",
       " 'as': 5,\n",
       " 'attempting': 6,\n",
       " 'attitude': 7,\n",
       " 'be': 8,\n",
       " 'begin': 9,\n",
       " 'but': 10,\n",
       " 'by': 11,\n",
       " 'can': 12,\n",
       " 'closely': 13,\n",
       " 'commonly': 14,\n",
       " 'conclusion': 15,\n",
       " 'consider': 16,\n",
       " 'dangerous': 17,\n",
       " 'definition': 18,\n",
       " 'definitions': 19,\n",
       " 'difficult': 20,\n",
       " 'escape': 21,\n",
       " 'examining': 22,\n",
       " 'expressed': 23,\n",
       " 'far': 24,\n",
       " 'found': 25,\n",
       " 'framed': 26,\n",
       " 'gallup': 27,\n",
       " 'how': 28,\n",
       " 'if': 29,\n",
       " 'in': 30,\n",
       " 'instead': 31,\n",
       " 'is': 32,\n",
       " 'it': 33,\n",
       " 'machine': 34,\n",
       " 'machines': 35,\n",
       " 'meaning': 36,\n",
       " 'might': 37,\n",
       " 'normal': 38,\n",
       " 'of': 39,\n",
       " 'poll': 40,\n",
       " 'possible': 41,\n",
       " 'propose': 42,\n",
       " 'question': 43,\n",
       " 'reflect': 44,\n",
       " 'related': 45,\n",
       " 'relatively': 46,\n",
       " 'replace': 47,\n",
       " 'shall': 48,\n",
       " 'should': 49,\n",
       " 'so': 50,\n",
       " 'sought': 51,\n",
       " 'statistical': 52,\n",
       " 'such': 53,\n",
       " 'survey': 54,\n",
       " 'terms': 55,\n",
       " 'that': 56,\n",
       " 'the': 57,\n",
       " 'they': 58,\n",
       " 'think': 59,\n",
       " 'this': 60,\n",
       " 'to': 61,\n",
       " 'unambiguous': 62,\n",
       " 'use': 63,\n",
       " 'used': 64,\n",
       " 'which': 65,\n",
       " 'with': 66,\n",
       " 'words': 67}"
      ]
     },
     "execution_count": 15,
     "metadata": {
      "tags": []
     },
     "output_type": "execute_result"
    }
   ],
   "source": [
    "bow.vocabulary_"
   ]
  },
  {
   "cell_type": "code",
   "execution_count": 16,
   "metadata": {
    "colab": {
     "base_uri": "https://localhost:8080/",
     "height": 34
    },
    "colab_type": "code",
    "id": "sFfLJGlYZfKf",
    "outputId": "463ee419-d270-4393-cd50-b0bded70a7e4"
   },
   "outputs": [
    {
     "name": "stdout",
     "output_type": "stream",
     "text": [
      "Length of vocabulary: 68\n"
     ]
    }
   ],
   "source": [
    "print(f'Length of vocabulary: {len(bow.vocabulary_)}')"
   ]
  },
  {
   "cell_type": "code",
   "execution_count": 0,
   "metadata": {
    "colab": {},
    "colab_type": "code",
    "collapsed": true,
    "id": "xqrHS_8BMgNA"
   },
   "outputs": [],
   "source": [
    "example = 'Can machine think?'\n",
    "t_example = tokenize(example)\n",
    "v_example = bow.transform(t_example)"
   ]
  },
  {
   "cell_type": "code",
   "execution_count": 18,
   "metadata": {
    "colab": {
     "base_uri": "https://localhost:8080/",
     "height": 51
    },
    "colab_type": "code",
    "id": "9CD1iqMoUe-x",
    "outputId": "7203d32f-d537-46d6-e766-e15a3c70837e"
   },
   "outputs": [
    {
     "data": {
      "text/plain": [
       "<4x68 sparse matrix of type '<class 'numpy.int64'>'\n",
       "\twith 3 stored elements in Compressed Sparse Row format>"
      ]
     },
     "execution_count": 18,
     "metadata": {
      "tags": []
     },
     "output_type": "execute_result"
    }
   ],
   "source": [
    "v_example"
   ]
  },
  {
   "cell_type": "code",
   "execution_count": 19,
   "metadata": {
    "colab": {
     "base_uri": "https://localhost:8080/",
     "height": 289
    },
    "colab_type": "code",
    "id": "Vgp8pQ1zZV4o",
    "outputId": "a3e85d28-f671-4e64-e95e-7021275ac1b6"
   },
   "outputs": [
    {
     "data": {
      "text/plain": [
       "array([[0, 0, 0, 0, 0, 0, 0, 0, 0, 0, 0, 0, 1, 0, 0, 0, 0, 0, 0, 0, 0, 0,\n",
       "        0, 0, 0, 0, 0, 0, 0, 0, 0, 0, 0, 0, 0, 0, 0, 0, 0, 0, 0, 0, 0, 0,\n",
       "        0, 0, 0, 0, 0, 0, 0, 0, 0, 0, 0, 0, 0, 0, 0, 0, 0, 0, 0, 0, 0, 0,\n",
       "        0, 0],\n",
       "       [0, 0, 0, 0, 0, 0, 0, 0, 0, 0, 0, 0, 0, 0, 0, 0, 0, 0, 0, 0, 0, 0,\n",
       "        0, 0, 0, 0, 0, 0, 0, 0, 0, 0, 0, 0, 1, 0, 0, 0, 0, 0, 0, 0, 0, 0,\n",
       "        0, 0, 0, 0, 0, 0, 0, 0, 0, 0, 0, 0, 0, 0, 0, 0, 0, 0, 0, 0, 0, 0,\n",
       "        0, 0],\n",
       "       [0, 0, 0, 0, 0, 0, 0, 0, 0, 0, 0, 0, 0, 0, 0, 0, 0, 0, 0, 0, 0, 0,\n",
       "        0, 0, 0, 0, 0, 0, 0, 0, 0, 0, 0, 0, 0, 0, 0, 0, 0, 0, 0, 0, 0, 0,\n",
       "        0, 0, 0, 0, 0, 0, 0, 0, 0, 0, 0, 0, 0, 0, 0, 1, 0, 0, 0, 0, 0, 0,\n",
       "        0, 0],\n",
       "       [0, 0, 0, 0, 0, 0, 0, 0, 0, 0, 0, 0, 0, 0, 0, 0, 0, 0, 0, 0, 0, 0,\n",
       "        0, 0, 0, 0, 0, 0, 0, 0, 0, 0, 0, 0, 0, 0, 0, 0, 0, 0, 0, 0, 0, 0,\n",
       "        0, 0, 0, 0, 0, 0, 0, 0, 0, 0, 0, 0, 0, 0, 0, 0, 0, 0, 0, 0, 0, 0,\n",
       "        0, 0]])"
      ]
     },
     "execution_count": 19,
     "metadata": {
      "tags": []
     },
     "output_type": "execute_result"
    }
   ],
   "source": [
    "v_example.toarray()"
   ]
  },
  {
   "cell_type": "markdown",
   "metadata": {
    "colab_type": "text",
    "id": "GXfqe-YtMy1X"
   },
   "source": [
    "# TF-IDF"
   ]
  },
  {
   "cell_type": "code",
   "execution_count": 20,
   "metadata": {
    "colab": {
     "base_uri": "https://localhost:8080/",
     "height": 51
    },
    "colab_type": "code",
    "id": "QybH8ixarKrI",
    "outputId": "2872baa8-d108-4d4a-88b9-71e73a102c48"
   },
   "outputs": [
    {
     "name": "stdout",
     "output_type": "stream",
     "text": [
      "[nltk_data] Downloading package gutenberg to /root/nltk_data...\n",
      "[nltk_data]   Package gutenberg is already up-to-date!\n"
     ]
    }
   ],
   "source": [
    "import nltk\n",
    "nltk.download('gutenberg')\n",
    "\n",
    "hamlet = nltk.corpus.gutenberg.words('shakespeare-hamlet.txt')\n",
    "hamlet = [w.lower() for w in hamlet]"
   ]
  },
  {
   "cell_type": "code",
   "execution_count": 21,
   "metadata": {
    "colab": {
     "base_uri": "https://localhost:8080/",
     "height": 51
    },
    "colab_type": "code",
    "id": "xroQFEugrTgW",
    "outputId": "875fc7e8-376e-4932-8867-84f0a6b8f3da"
   },
   "outputs": [
    {
     "name": "stdout",
     "output_type": "stream",
     "text": [
      "# of tokens: 37360\n",
      "# of unique words: 4716\n"
     ]
    }
   ],
   "source": [
    "print(f'# of tokens: {len(hamlet)}')\n",
    "print(f'# of unique words: {len(set(hamlet))}')"
   ]
  },
  {
   "cell_type": "code",
   "execution_count": 22,
   "metadata": {
    "colab": {
     "base_uri": "https://localhost:8080/",
     "height": 136
    },
    "colab_type": "code",
    "id": "ZpearTeq2-D5",
    "outputId": "552f5ce2-d978-4160-94f6-b696802b9c89"
   },
   "outputs": [
    {
     "data": {
      "text/plain": [
       "TfidfVectorizer(analyzer='word', binary=False, decode_error='strict',\n",
       "                dtype=<class 'numpy.float64'>, encoding='utf-8',\n",
       "                input='content', lowercase=True, max_df=1.0, max_features=None,\n",
       "                min_df=1, ngram_range=(1, 1), norm='l2', preprocessor=None,\n",
       "                smooth_idf=True, stop_words=None, strip_accents=None,\n",
       "                sublinear_tf=False, token_pattern='(?u)\\\\b\\\\w\\\\w+\\\\b',\n",
       "                tokenizer=None, use_idf=True, vocabulary=None)"
      ]
     },
     "execution_count": 22,
     "metadata": {
      "tags": []
     },
     "output_type": "execute_result"
    }
   ],
   "source": [
    "from sklearn.feature_extraction.text import TfidfVectorizer\n",
    "\n",
    "tfidf = TfidfVectorizer()\n",
    "tfidf.fit(hamlet)"
   ]
  },
  {
   "cell_type": "code",
   "execution_count": 23,
   "metadata": {
    "colab": {
     "base_uri": "https://localhost:8080/",
     "height": 51
    },
    "colab_type": "code",
    "id": "YBPItrMRYN0w",
    "outputId": "b1573dc1-b975-4f37-e53b-cb51204b893d"
   },
   "outputs": [
    {
     "name": "stdout",
     "output_type": "stream",
     "text": [
      "Length of vocabulary: 4688\n",
      "How many sentences in the corpus: 37360\n"
     ]
    }
   ],
   "source": [
    "print(f'Length of vocabulary: {len(tfidf.vocabulary_)}')\n",
    "print(f'How many sentences in the corpus: {len(hamlet)}')"
   ]
  },
  {
   "cell_type": "code",
   "execution_count": 24,
   "metadata": {
    "colab": {
     "base_uri": "https://localhost:8080/",
     "height": 34
    },
    "colab_type": "code",
    "id": "a017Hre0YETi",
    "outputId": "8dd54bf4-d76c-4f6f-bd75-afb1c6ffacfc"
   },
   "outputs": [
    {
     "data": {
      "text/plain": [
       "(37360, 4688)"
      ]
     },
     "execution_count": 24,
     "metadata": {
      "tags": []
     },
     "output_type": "execute_result"
    }
   ],
   "source": [
    "vector_hamlet = tfidf.transform(hamlet)\n",
    "vector_hamlet.shape # == sentence_count, vocabulary_length"
   ]
  },
  {
   "cell_type": "code",
   "execution_count": 0,
   "metadata": {
    "colab": {},
    "colab_type": "code",
    "collapsed": true,
    "id": "S_adKRof3Qqw"
   },
   "outputs": [],
   "source": [
    "example = 'Blessed are you whose worthiness gives scope, Being had, to triumph; being lacked, to hope.'\n",
    "t_example = tokenize(example)\n",
    "vector = tfidf.transform(t_example)"
   ]
  },
  {
   "cell_type": "code",
   "execution_count": 26,
   "metadata": {
    "colab": {
     "base_uri": "https://localhost:8080/",
     "height": 51
    },
    "colab_type": "code",
    "id": "njZJU45oYAyC",
    "outputId": "f4fd78de-d6f0-4144-f5e9-1670203a0948"
   },
   "outputs": [
    {
     "data": {
      "text/plain": [
       "<20x4688 sparse matrix of type '<class 'numpy.float64'>'\n",
       "\twith 11 stored elements in Compressed Sparse Row format>"
      ]
     },
     "execution_count": 26,
     "metadata": {
      "tags": []
     },
     "output_type": "execute_result"
    }
   ],
   "source": [
    "vector"
   ]
  },
  {
   "cell_type": "code",
   "execution_count": 0,
   "metadata": {
    "colab": {},
    "colab_type": "code",
    "collapsed": true,
    "id": "WV5rsTJRXyeY"
   },
   "outputs": [],
   "source": []
  }
 ],
 "metadata": {
  "colab": {
   "collapsed_sections": [],
   "name": "CMPE346_Week4.ipynb",
   "provenance": []
  },
  "kernelspec": {
   "display_name": "Python 3",
   "language": "python",
   "name": "python3"
  },
  "language_info": {
   "codemirror_mode": {
    "name": "ipython",
    "version": 3
   },
   "file_extension": ".py",
   "mimetype": "text/x-python",
   "name": "python",
   "nbconvert_exporter": "python",
   "pygments_lexer": "ipython3",
   "version": "3.6.2"
  }
 },
 "nbformat": 4,
 "nbformat_minor": 1
}
